{
 "cells": [
  {
   "cell_type": "code",
   "execution_count": 2,
   "id": "164597b0-3a57-46ed-a847-0eaae4d72cfb",
   "metadata": {},
   "outputs": [],
   "source": [
    "import os"
   ]
  },
  {
   "cell_type": "code",
   "execution_count": 6,
   "id": "2a0d5301-9ab8-44ba-9f10-63ecaf298512",
   "metadata": {},
   "outputs": [
    {
     "data": {
      "text/plain": [
       "'1,5 Star,5,100\\n2,Milky bar,10,100\\n3,cake,300,5\\nheloo'"
      ]
     },
     "execution_count": 6,
     "metadata": {},
     "output_type": "execute_result"
    }
   ],
   "source": [
    "fd=open('inventory.txt','a')\n",
    "txt='fd.read()\n",
    "fd.close()\n",
    "txt"
   ]
  },
  {
   "cell_type": "code",
   "execution_count": 4,
   "id": "35515d81-b31a-4dd7-956b-f1e3f6dcf3be",
   "metadata": {},
   "outputs": [
    {
     "data": {
      "text/plain": [
       "'C:\\\\Users\\\\nithi\\\\jupiter\\\\jupiter code'"
      ]
     },
     "execution_count": 4,
     "metadata": {},
     "output_type": "execute_result"
    }
   ],
   "source": [
    "os.getcwd()"
   ]
  },
  {
   "cell_type": "code",
   "execution_count": 25,
   "id": "bdfcac4a-a1d0-4c52-9e68-a00d52f97c86",
   "metadata": {},
   "outputs": [],
   "source": [
    "os.chdir('music')"
   ]
  },
  {
   "cell_type": "code",
   "execution_count": 26,
   "id": "dfd65f9e-aa8b-4cb3-b153-216185cdd6e5",
   "metadata": {},
   "outputs": [],
   "source": [
    "os.mkdir('gfg')"
   ]
  },
  {
   "cell_type": "code",
   "execution_count": 27,
   "id": "c441a657-45ae-48fb-8c0b-c7c16ed07ef3",
   "metadata": {},
   "outputs": [
    {
     "data": {
      "text/plain": [
       "'C:\\\\Users\\\\nithi\\\\music'"
      ]
     },
     "execution_count": 27,
     "metadata": {},
     "output_type": "execute_result"
    }
   ],
   "source": [
    "os.getcwd()"
   ]
  },
  {
   "cell_type": "code",
   "execution_count": 31,
   "id": "a71f8a2e-b644-45e5-8fbb-61a4cb0e056f",
   "metadata": {},
   "outputs": [],
   "source": [
    "os.makedirs('gfg/gfg1/gfg2')"
   ]
  },
  {
   "cell_type": "raw",
   "id": "bea4dbb6-5130-457b-b4d2-2b7dfcadc0f2",
   "metadata": {},
   "source": [
    "os.rmdir('gfg/gfg1')"
   ]
  },
  {
   "cell_type": "code",
   "execution_count": 38,
   "id": "094bb673-4d5e-4672-bdcc-7ddfee9b98f6",
   "metadata": {},
   "outputs": [],
   "source": [
    "os.rmdir('gfg')"
   ]
  },
  {
   "cell_type": "code",
   "execution_count": 46,
   "id": "fd66496c-5aca-4edb-af6a-a0f7a7174f9d",
   "metadata": {},
   "outputs": [
    {
     "name": "stdout",
     "output_type": "stream",
     "text": [
      ".ipynb_checkpoints\n",
      "data.txt\n",
      "file.txt\n",
      "Inventory.txt\n",
      "records.json\n",
      "Text_processing.ipynb\n"
     ]
    }
   ],
   "source": [
    "for i in os.listdir('jupiter code'):\n",
    "    print (i)"
   ]
  },
  {
   "cell_type": "code",
   "execution_count": 54,
   "id": "5ead46d6-14e3-4636-b80a-6857e77e3f21",
   "metadata": {},
   "outputs": [
    {
     "name": "stdout",
     "output_type": "stream",
     "text": [
      "folder already exists\n"
     ]
    }
   ],
   "source": [
    "if os.path.exists('nithin'):\n",
    "    print('folder already exists')\n",
    "else:    \n",
    "    os.mkdir('nithin')"
   ]
  },
  {
   "cell_type": "code",
   "execution_count": 53,
   "id": "9084403d-770d-4534-adbf-11a4d0344293",
   "metadata": {},
   "outputs": [
    {
     "data": {
      "text/plain": [
       "4096"
      ]
     },
     "execution_count": 53,
     "metadata": {},
     "output_type": "execute_result"
    }
   ],
   "source": [
    "os.path.getsize('jupiter code')"
   ]
  },
  {
   "cell_type": "code",
   "execution_count": 56,
   "id": "9bc35417-9f80-4f85-a3b9-217cafb73e55",
   "metadata": {},
   "outputs": [
    {
     "data": {
      "text/plain": [
       "True"
      ]
     },
     "execution_count": 56,
     "metadata": {},
     "output_type": "execute_result"
    }
   ],
   "source": [
    "os.path.exists('nithin')"
   ]
  },
  {
   "cell_type": "code",
   "execution_count": 74,
   "id": "9a411790-48ff-462c-9b73-9821904a4f19",
   "metadata": {},
   "outputs": [],
   "source": [
    "n='nithinn1'\n",
    "\n",
    "for i in range(10000):\n",
    "     name=n+'/'+n+\" \"+str(i)\n",
    "     os.rmdir(name)"
   ]
  },
  {
   "cell_type": "code",
   "execution_count": 5,
   "id": "313ef92e-2c6e-40b5-8b66-5b6e567f66eb",
   "metadata": {},
   "outputs": [
    {
     "data": {
      "text/plain": [
       "'C:\\\\Users\\\\nithi\\\\jupiter\\\\jupiter code'"
      ]
     },
     "execution_count": 5,
     "metadata": {},
     "output_type": "execute_result"
    }
   ],
   "source": [
    " os.getcwd()"
   ]
  },
  {
   "cell_type": "raw",
   "id": "15074b67-43eb-4ed7-8e4c-ed47d9cb2ddd",
   "metadata": {},
   "source": [
    "os.listdir('jupiter code')"
   ]
  },
  {
   "cell_type": "code",
   "execution_count": 7,
   "id": "3d203ff9-0c86-48f6-afd4-1b01ca9384e0",
   "metadata": {},
   "outputs": [
    {
     "data": {
      "text/plain": [
       "['.ipynb_checkpoints',\n",
       " 'data.txt',\n",
       " 'file.txt',\n",
       " 'Inventory.txt',\n",
       " 'records.json',\n",
       " 'Text_processing.ipynb']"
      ]
     },
     "execution_count": 7,
     "metadata": {},
     "output_type": "execute_result"
    }
   ],
   "source": [
    "os.listdir()"
   ]
  },
  {
   "cell_type": "code",
   "execution_count": 3,
   "id": "cb7fdbe4-e6fc-4d8d-8f55-8a37fd2c4be2",
   "metadata": {},
   "outputs": [],
   "source": [
    "os.mkdir('files')"
   ]
  },
  {
   "cell_type": "code",
   "execution_count": 7,
   "id": "5d95e12d-ae5a-4dc8-96a8-8dc1ff4426f5",
   "metadata": {},
   "outputs": [
    {
     "name": "stdout",
     "output_type": "stream",
     "text": [
      "C:\\Users\\nithi\n"
     ]
    }
   ],
   "source": [
    "cd"
   ]
  },
  {
   "cell_type": "code",
   "execution_count": 9,
   "id": "965ceb9c-6953-44df-a3fa-a3ca1e43bd58",
   "metadata": {},
   "outputs": [],
   "source": [
    "os.mkdir('files')"
   ]
  },
  {
   "cell_type": "code",
   "execution_count": 10,
   "id": "9cf35505-cdec-4331-939c-401c07262d3e",
   "metadata": {},
   "outputs": [],
   "source": [
    "os.chdir('music')"
   ]
  },
  {
   "cell_type": "code",
   "execution_count": 12,
   "id": "a16efd10-26dd-46c2-aeae-bd6cf9b40080",
   "metadata": {},
   "outputs": [],
   "source": [
    "os.mkdir('files')"
   ]
  },
  {
   "cell_type": "code",
   "execution_count": 19,
   "id": "45ddacb4-8d5f-4078-a109-85adc2fa961d",
   "metadata": {},
   "outputs": [
    {
     "ename": "FileNotFoundError",
     "evalue": "[WinError 2] The system cannot find the file specified: 'files/files 382271'",
     "output_type": "error",
     "traceback": [
      "\u001b[1;31m---------------------------------------------------------------------------\u001b[0m",
      "\u001b[1;31mFileNotFoundError\u001b[0m                         Traceback (most recent call last)",
      "Cell \u001b[1;32mIn[19], line 4\u001b[0m\n\u001b[0;32m      2\u001b[0m \u001b[38;5;28;01mfor\u001b[39;00m i \u001b[38;5;129;01min\u001b[39;00m \u001b[38;5;28mrange\u001b[39m(\u001b[38;5;241m1000000\u001b[39m):\n\u001b[0;32m      3\u001b[0m      name\u001b[38;5;241m=\u001b[39mn\u001b[38;5;241m+\u001b[39m\u001b[38;5;124m'\u001b[39m\u001b[38;5;124m/\u001b[39m\u001b[38;5;124m'\u001b[39m\u001b[38;5;241m+\u001b[39mn\u001b[38;5;241m+\u001b[39m\u001b[38;5;124m\"\u001b[39m\u001b[38;5;124m \u001b[39m\u001b[38;5;124m\"\u001b[39m\u001b[38;5;241m+\u001b[39m\u001b[38;5;28mstr\u001b[39m(i)\n\u001b[1;32m----> 4\u001b[0m      os\u001b[38;5;241m.\u001b[39mrmdir(name)\n",
      "\u001b[1;31mFileNotFoundError\u001b[0m: [WinError 2] The system cannot find the file specified: 'files/files 382271'"
     ]
    }
   ],
   "source": [
    "n='files'\n",
    "for i in range(1000000):\n",
    "     name=n+'/'+n+\" \"+str(i)\n",
    "     os.rmdir(name)"
   ]
  },
  {
   "cell_type": "code",
   "execution_count": 18,
   "id": "b12253b9-ea58-4365-9f69-06916059a580",
   "metadata": {},
   "outputs": [
    {
     "data": {
      "text/plain": [
       "145752064"
      ]
     },
     "execution_count": 18,
     "metadata": {},
     "output_type": "execute_result"
    }
   ],
   "source": [
    "os.path.getsize('files')"
   ]
  },
  {
   "cell_type": "code",
   "execution_count": 31,
   "id": "7dee582a-6fea-47d5-ae7f-b3dac471160c",
   "metadata": {},
   "outputs": [
    {
     "name": "stdout",
     "output_type": "stream",
     "text": [
      "0.3340105597607067\n"
     ]
    }
   ],
   "source": [
    "print(random.random())"
   ]
  },
  {
   "cell_type": "code",
   "execution_count": 34,
   "id": "530b0463-64aa-45d6-95aa-e035015eaab1",
   "metadata": {},
   "outputs": [],
   "source": [
    "import numpy as np"
   ]
  },
  {
   "cell_type": "code",
   "execution_count": 46,
   "id": "33de0b47-ab8d-4a5c-a55d-feb131773724",
   "metadata": {},
   "outputs": [
    {
     "data": {
      "text/plain": [
       "array([[0.03454683, 0.09206725, 0.47581011, 0.69416773, 0.73231039],\n",
       "       [0.46560683, 0.83783782, 0.81285035, 0.77976431, 0.66918452],\n",
       "       [0.77507798, 0.09408033, 0.43822533, 0.56328414, 0.05492776]])"
      ]
     },
     "execution_count": 46,
     "metadata": {},
     "output_type": "execute_result"
    }
   ],
   "source": [
    "np.random.random((3,5))"
   ]
  },
  {
   "cell_type": "raw",
   "id": "df5dad57-1d7a-43ea-9959-527f7e4a6b6d",
   "metadata": {},
   "source": [
    "import mathplotlib.pyplot as plt"
   ]
  },
  {
   "cell_type": "code",
   "execution_count": 48,
   "id": "0e5946d3-1927-47b0-bf8c-849e871b6292",
   "metadata": {},
   "outputs": [],
   "source": [
    "import matplotlib.pyplot as plt"
   ]
  },
  {
   "cell_type": "code",
   "execution_count": 54,
   "id": "b1a6347b-92c0-4566-b012-2ece5a8fe0a1",
   "metadata": {},
   "outputs": [
    {
     "data": {
      "text/plain": [
       "(array([1.000e+00, 0.000e+00, 0.000e+00, 0.000e+00, 0.000e+00, 0.000e+00,\n",
       "        0.000e+00, 0.000e+00, 0.000e+00, 0.000e+00, 0.000e+00, 0.000e+00,\n",
       "        0.000e+00, 0.000e+00, 0.000e+00, 0.000e+00, 0.000e+00, 0.000e+00,\n",
       "        0.000e+00, 0.000e+00, 0.000e+00, 0.000e+00, 0.000e+00, 0.000e+00,\n",
       "        0.000e+00, 0.000e+00, 0.000e+00, 0.000e+00, 0.000e+00, 0.000e+00,\n",
       "        0.000e+00, 1.000e+00, 0.000e+00, 0.000e+00, 0.000e+00, 0.000e+00,\n",
       "        0.000e+00, 0.000e+00, 0.000e+00, 0.000e+00, 0.000e+00, 0.000e+00,\n",
       "        0.000e+00, 0.000e+00, 0.000e+00, 0.000e+00, 0.000e+00, 0.000e+00,\n",
       "        0.000e+00, 0.000e+00, 0.000e+00, 0.000e+00, 0.000e+00, 0.000e+00,\n",
       "        1.000e+00, 0.000e+00, 0.000e+00, 0.000e+00, 1.000e+00, 0.000e+00,\n",
       "        0.000e+00, 1.000e+00, 0.000e+00, 0.000e+00, 0.000e+00, 0.000e+00,\n",
       "        0.000e+00, 0.000e+00, 1.000e+00, 0.000e+00, 0.000e+00, 2.000e+00,\n",
       "        0.000e+00, 1.000e+00, 2.000e+00, 1.000e+00, 2.000e+00, 1.000e+00,\n",
       "        1.000e+00, 1.000e+00, 1.000e+00, 0.000e+00, 1.000e+00, 0.000e+00,\n",
       "        2.000e+00, 0.000e+00, 1.000e+00, 0.000e+00, 1.000e+00, 2.000e+00,\n",
       "        0.000e+00, 0.000e+00, 0.000e+00, 0.000e+00, 0.000e+00, 1.000e+00,\n",
       "        1.000e+00, 0.000e+00, 2.000e+00, 1.000e+00, 0.000e+00, 1.000e+00,\n",
       "        2.000e+00, 1.000e+00, 1.000e+00, 2.000e+00, 1.000e+00, 1.000e+00,\n",
       "        4.000e+00, 0.000e+00, 1.000e+00, 0.000e+00, 1.000e+00, 0.000e+00,\n",
       "        3.000e+00, 1.000e+00, 1.000e+00, 2.000e+00, 2.000e+00, 1.000e+00,\n",
       "        0.000e+00, 2.000e+00, 0.000e+00, 1.000e+00, 1.000e+00, 1.000e+00,\n",
       "        2.000e+00, 0.000e+00, 3.000e+00, 6.000e+00, 2.000e+00, 8.000e+00,\n",
       "        3.000e+00, 2.000e+00, 1.000e+00, 3.000e+00, 2.000e+00, 4.000e+00,\n",
       "        5.000e+00, 6.000e+00, 8.000e+00, 4.000e+00, 7.000e+00, 8.000e+00,\n",
       "        3.000e+00, 9.000e+00, 6.000e+00, 4.000e+00, 7.000e+00, 5.000e+00,\n",
       "        8.000e+00, 6.000e+00, 4.000e+00, 8.000e+00, 1.200e+01, 9.000e+00,\n",
       "        6.000e+00, 7.000e+00, 4.000e+00, 1.000e+01, 7.000e+00, 1.100e+01,\n",
       "        8.000e+00, 9.000e+00, 1.400e+01, 9.000e+00, 1.100e+01, 8.000e+00,\n",
       "        6.000e+00, 6.000e+00, 1.500e+01, 1.000e+01, 1.800e+01, 2.200e+01,\n",
       "        1.900e+01, 1.400e+01, 2.000e+01, 1.500e+01, 2.200e+01, 1.700e+01,\n",
       "        2.000e+01, 2.300e+01, 2.000e+01, 1.800e+01, 1.700e+01, 1.700e+01,\n",
       "        2.100e+01, 2.700e+01, 1.500e+01, 1.900e+01, 1.900e+01, 2.400e+01,\n",
       "        2.100e+01, 2.800e+01, 3.000e+01, 2.000e+01, 2.600e+01, 3.000e+01,\n",
       "        4.400e+01, 2.800e+01, 2.600e+01, 2.200e+01, 3.500e+01, 4.900e+01,\n",
       "        4.000e+01, 3.200e+01, 4.000e+01, 4.300e+01, 4.000e+01, 4.000e+01,\n",
       "        4.400e+01, 4.700e+01, 5.500e+01, 4.900e+01, 5.600e+01, 5.300e+01,\n",
       "        5.400e+01, 6.300e+01, 5.800e+01, 5.800e+01, 6.500e+01, 5.700e+01,\n",
       "        7.800e+01, 5.700e+01, 6.600e+01, 6.700e+01, 6.700e+01, 7.900e+01,\n",
       "        7.900e+01, 6.400e+01, 8.700e+01, 1.020e+02, 9.600e+01, 8.800e+01,\n",
       "        8.800e+01, 9.700e+01, 8.400e+01, 1.090e+02, 8.900e+01, 8.300e+01,\n",
       "        8.200e+01, 1.150e+02, 1.050e+02, 1.210e+02, 1.110e+02, 1.270e+02,\n",
       "        1.110e+02, 1.250e+02, 1.330e+02, 1.520e+02, 1.490e+02, 1.550e+02,\n",
       "        1.510e+02, 1.410e+02, 1.530e+02, 1.470e+02, 1.470e+02, 1.700e+02,\n",
       "        1.730e+02, 1.800e+02, 1.950e+02, 1.960e+02, 2.110e+02, 2.020e+02,\n",
       "        2.090e+02, 1.820e+02, 2.000e+02, 1.900e+02, 2.400e+02, 2.350e+02,\n",
       "        2.250e+02, 2.330e+02, 2.340e+02, 2.750e+02, 2.580e+02, 2.360e+02,\n",
       "        2.620e+02, 2.910e+02, 2.800e+02, 3.070e+02, 2.820e+02, 3.170e+02,\n",
       "        3.100e+02, 3.530e+02, 3.450e+02, 3.350e+02, 3.390e+02, 3.190e+02,\n",
       "        3.310e+02, 3.580e+02, 3.640e+02, 3.540e+02, 3.740e+02, 3.830e+02,\n",
       "        4.140e+02, 4.070e+02, 4.500e+02, 4.580e+02, 4.030e+02, 4.890e+02,\n",
       "        4.250e+02, 4.420e+02, 4.740e+02, 4.770e+02, 5.260e+02, 5.220e+02,\n",
       "        5.370e+02, 5.270e+02, 5.070e+02, 5.640e+02, 5.720e+02, 5.400e+02,\n",
       "        5.790e+02, 5.750e+02, 6.460e+02, 6.170e+02, 6.320e+02, 6.280e+02,\n",
       "        6.510e+02, 6.730e+02, 7.030e+02, 7.660e+02, 6.850e+02, 7.160e+02,\n",
       "        7.490e+02, 7.610e+02, 7.820e+02, 7.960e+02, 8.400e+02, 7.780e+02,\n",
       "        7.740e+02, 8.250e+02, 8.850e+02, 8.370e+02, 9.060e+02, 8.770e+02,\n",
       "        8.640e+02, 9.290e+02, 9.600e+02, 9.380e+02, 8.940e+02, 1.012e+03,\n",
       "        1.059e+03, 1.060e+03, 1.046e+03, 9.970e+02, 1.152e+03, 1.122e+03,\n",
       "        1.084e+03, 1.148e+03, 1.127e+03, 1.153e+03, 1.183e+03, 1.187e+03,\n",
       "        1.252e+03, 1.275e+03, 1.252e+03, 1.278e+03, 1.358e+03, 1.276e+03,\n",
       "        1.378e+03, 1.301e+03, 1.393e+03, 1.420e+03, 1.403e+03, 1.438e+03,\n",
       "        1.462e+03, 1.478e+03, 1.487e+03, 1.484e+03, 1.529e+03, 1.537e+03,\n",
       "        1.580e+03, 1.577e+03, 1.609e+03, 1.637e+03, 1.688e+03, 1.704e+03,\n",
       "        1.741e+03, 1.758e+03, 1.792e+03, 1.861e+03, 1.863e+03, 1.814e+03,\n",
       "        1.875e+03, 1.914e+03, 1.944e+03, 1.889e+03, 1.952e+03, 1.970e+03,\n",
       "        2.015e+03, 2.005e+03, 1.985e+03, 2.070e+03, 2.071e+03, 2.014e+03,\n",
       "        2.179e+03, 2.047e+03, 2.195e+03, 2.252e+03, 2.225e+03, 2.294e+03,\n",
       "        2.279e+03, 2.266e+03, 2.350e+03, 2.403e+03, 2.445e+03, 2.294e+03,\n",
       "        2.475e+03, 2.428e+03, 2.428e+03, 2.552e+03, 2.509e+03, 2.505e+03,\n",
       "        2.543e+03, 2.583e+03, 2.547e+03, 2.681e+03, 2.696e+03, 2.663e+03,\n",
       "        2.719e+03, 2.794e+03, 2.792e+03, 2.762e+03, 2.809e+03, 2.862e+03,\n",
       "        2.888e+03, 2.945e+03, 2.903e+03, 2.971e+03, 2.979e+03, 3.013e+03,\n",
       "        2.981e+03, 3.054e+03, 3.035e+03, 2.994e+03, 3.027e+03, 3.183e+03,\n",
       "        3.167e+03, 3.257e+03, 3.150e+03, 3.188e+03, 3.193e+03, 3.294e+03,\n",
       "        3.248e+03, 3.195e+03, 3.409e+03, 3.291e+03, 3.324e+03, 3.241e+03,\n",
       "        3.321e+03, 3.433e+03, 3.483e+03, 3.483e+03, 3.512e+03, 3.544e+03,\n",
       "        3.506e+03, 3.511e+03, 3.563e+03, 3.492e+03, 3.582e+03, 3.569e+03,\n",
       "        3.674e+03, 3.720e+03, 3.578e+03, 3.629e+03, 3.720e+03, 3.776e+03,\n",
       "        3.766e+03, 3.812e+03, 3.840e+03, 3.775e+03, 3.821e+03, 3.856e+03,\n",
       "        3.776e+03, 3.864e+03, 3.774e+03, 3.869e+03, 3.902e+03, 3.857e+03,\n",
       "        3.810e+03, 3.925e+03, 3.881e+03, 4.034e+03, 3.888e+03, 3.891e+03,\n",
       "        3.949e+03, 3.916e+03, 3.894e+03, 3.861e+03, 4.010e+03, 3.969e+03,\n",
       "        4.079e+03, 3.951e+03, 3.967e+03, 3.965e+03, 4.059e+03, 3.920e+03,\n",
       "        3.963e+03, 4.052e+03, 3.993e+03, 4.011e+03, 4.062e+03, 4.003e+03,\n",
       "        3.994e+03, 4.135e+03, 3.984e+03, 3.881e+03, 4.025e+03, 4.058e+03,\n",
       "        3.925e+03, 4.066e+03, 3.986e+03, 3.945e+03, 4.063e+03, 4.044e+03,\n",
       "        4.110e+03, 4.099e+03, 3.972e+03, 4.039e+03, 4.126e+03, 3.992e+03,\n",
       "        3.990e+03, 3.955e+03, 3.949e+03, 3.985e+03, 3.897e+03, 4.014e+03,\n",
       "        3.932e+03, 3.935e+03, 3.867e+03, 3.831e+03, 3.814e+03, 3.739e+03,\n",
       "        3.911e+03, 3.843e+03, 3.923e+03, 3.764e+03, 3.857e+03, 3.902e+03,\n",
       "        3.792e+03, 3.830e+03, 3.858e+03, 3.731e+03, 3.766e+03, 3.737e+03,\n",
       "        3.663e+03, 3.768e+03, 3.704e+03, 3.648e+03, 3.623e+03, 3.643e+03,\n",
       "        3.519e+03, 3.599e+03, 3.613e+03, 3.573e+03, 3.546e+03, 3.538e+03,\n",
       "        3.537e+03, 3.426e+03, 3.491e+03, 3.560e+03, 3.415e+03, 3.412e+03,\n",
       "        3.305e+03, 3.433e+03, 3.391e+03, 3.359e+03, 3.261e+03, 3.280e+03,\n",
       "        3.302e+03, 3.317e+03, 3.270e+03, 3.246e+03, 3.167e+03, 3.244e+03,\n",
       "        3.241e+03, 3.150e+03, 3.208e+03, 3.104e+03, 3.092e+03, 3.035e+03,\n",
       "        3.060e+03, 3.104e+03, 2.984e+03, 3.052e+03, 2.877e+03, 2.872e+03,\n",
       "        2.829e+03, 2.843e+03, 2.732e+03, 2.824e+03, 2.766e+03, 2.756e+03,\n",
       "        2.793e+03, 2.796e+03, 2.683e+03, 2.705e+03, 2.696e+03, 2.608e+03,\n",
       "        2.550e+03, 2.581e+03, 2.470e+03, 2.554e+03, 2.466e+03, 2.412e+03,\n",
       "        2.464e+03, 2.463e+03, 2.489e+03, 2.419e+03, 2.322e+03, 2.248e+03,\n",
       "        2.296e+03, 2.274e+03, 2.252e+03, 2.266e+03, 2.241e+03, 2.163e+03,\n",
       "        2.136e+03, 2.125e+03, 2.037e+03, 2.117e+03, 2.012e+03, 2.040e+03,\n",
       "        2.016e+03, 1.985e+03, 2.013e+03, 1.926e+03, 1.971e+03, 1.879e+03,\n",
       "        1.858e+03, 1.861e+03, 1.889e+03, 1.790e+03, 1.833e+03, 1.772e+03,\n",
       "        1.728e+03, 1.782e+03, 1.699e+03, 1.601e+03, 1.608e+03, 1.612e+03,\n",
       "        1.577e+03, 1.616e+03, 1.599e+03, 1.479e+03, 1.603e+03, 1.491e+03,\n",
       "        1.485e+03, 1.418e+03, 1.412e+03, 1.394e+03, 1.413e+03, 1.378e+03,\n",
       "        1.303e+03, 1.424e+03, 1.286e+03, 1.254e+03, 1.210e+03, 1.206e+03,\n",
       "        1.216e+03, 1.152e+03, 1.158e+03, 1.125e+03, 1.206e+03, 1.142e+03,\n",
       "        1.067e+03, 1.099e+03, 1.040e+03, 1.077e+03, 1.039e+03, 9.500e+02,\n",
       "        9.970e+02, 1.005e+03, 9.780e+02, 1.007e+03, 9.230e+02, 9.280e+02,\n",
       "        9.240e+02, 8.880e+02, 9.430e+02, 8.850e+02, 8.360e+02, 7.910e+02,\n",
       "        8.690e+02, 7.560e+02, 7.570e+02, 7.970e+02, 7.920e+02, 7.400e+02,\n",
       "        7.670e+02, 7.120e+02, 6.900e+02, 7.430e+02, 7.010e+02, 6.780e+02,\n",
       "        6.730e+02, 6.220e+02, 6.790e+02, 6.260e+02, 6.280e+02, 5.670e+02,\n",
       "        5.560e+02, 5.840e+02, 5.450e+02, 5.470e+02, 5.590e+02, 6.060e+02,\n",
       "        5.340e+02, 4.940e+02, 4.650e+02, 4.940e+02, 4.500e+02, 4.420e+02,\n",
       "        4.400e+02, 4.850e+02, 4.280e+02, 4.520e+02, 4.100e+02, 4.260e+02,\n",
       "        4.710e+02, 3.930e+02, 3.800e+02, 3.590e+02, 3.770e+02, 3.650e+02,\n",
       "        3.820e+02, 3.500e+02, 3.330e+02, 3.170e+02, 3.360e+02, 3.360e+02,\n",
       "        3.100e+02, 3.050e+02, 2.600e+02, 2.690e+02, 2.840e+02, 2.930e+02,\n",
       "        2.570e+02, 2.680e+02, 2.700e+02, 2.450e+02, 2.560e+02, 2.480e+02,\n",
       "        2.560e+02, 2.680e+02, 2.090e+02, 2.180e+02, 2.110e+02, 2.280e+02,\n",
       "        1.970e+02, 2.230e+02, 2.050e+02, 2.090e+02, 1.620e+02, 1.870e+02,\n",
       "        1.780e+02, 1.470e+02, 1.460e+02, 1.420e+02, 1.480e+02, 1.170e+02,\n",
       "        1.430e+02, 1.520e+02, 1.370e+02, 1.270e+02, 1.160e+02, 1.300e+02,\n",
       "        1.120e+02, 1.450e+02, 1.300e+02, 9.500e+01, 1.000e+02, 1.120e+02,\n",
       "        1.130e+02, 9.500e+01, 1.050e+02, 1.090e+02, 1.080e+02, 9.000e+01,\n",
       "        8.900e+01, 9.700e+01, 8.100e+01, 9.000e+01, 7.900e+01, 7.600e+01,\n",
       "        7.800e+01, 7.500e+01, 6.700e+01, 7.400e+01, 7.000e+01, 6.300e+01,\n",
       "        7.500e+01, 6.700e+01, 6.500e+01, 4.700e+01, 5.400e+01, 5.400e+01,\n",
       "        4.700e+01, 5.900e+01, 6.000e+01, 4.500e+01, 5.300e+01, 3.900e+01,\n",
       "        5.500e+01, 5.100e+01, 4.600e+01, 4.400e+01, 4.200e+01, 4.100e+01,\n",
       "        4.300e+01, 4.200e+01, 4.700e+01, 3.500e+01, 3.800e+01, 3.100e+01,\n",
       "        3.700e+01, 3.600e+01, 2.600e+01, 3.500e+01, 2.800e+01, 3.200e+01,\n",
       "        1.700e+01, 3.300e+01, 3.100e+01, 2.000e+01, 2.300e+01, 2.100e+01,\n",
       "        2.200e+01, 2.300e+01, 1.900e+01, 2.000e+01, 2.700e+01, 2.000e+01,\n",
       "        1.800e+01, 1.700e+01, 2.200e+01, 1.700e+01, 1.600e+01, 1.800e+01,\n",
       "        1.800e+01, 1.100e+01, 9.000e+00, 1.400e+01, 2.000e+01, 1.300e+01,\n",
       "        1.000e+01, 1.200e+01, 8.000e+00, 6.000e+00, 9.000e+00, 6.000e+00,\n",
       "        1.200e+01, 8.000e+00, 9.000e+00, 8.000e+00, 8.000e+00, 9.000e+00,\n",
       "        8.000e+00, 8.000e+00, 7.000e+00, 1.300e+01, 7.000e+00, 5.000e+00,\n",
       "        6.000e+00, 3.000e+00, 7.000e+00, 7.000e+00, 6.000e+00, 4.000e+00,\n",
       "        3.000e+00, 5.000e+00, 6.000e+00, 5.000e+00, 2.000e+00, 3.000e+00,\n",
       "        4.000e+00, 4.000e+00, 3.000e+00, 5.000e+00, 6.000e+00, 2.000e+00,\n",
       "        4.000e+00, 4.000e+00, 5.000e+00, 2.000e+00, 2.000e+00, 5.000e+00,\n",
       "        2.000e+00, 2.000e+00, 3.000e+00, 4.000e+00, 1.000e+00, 1.000e+00,\n",
       "        3.000e+00, 0.000e+00, 3.000e+00, 3.000e+00, 1.000e+00, 2.000e+00,\n",
       "        2.000e+00, 1.000e+00, 3.000e+00, 3.000e+00, 2.000e+00, 0.000e+00,\n",
       "        2.000e+00, 2.000e+00, 1.000e+00, 2.000e+00, 0.000e+00, 1.000e+00,\n",
       "        2.000e+00, 3.000e+00, 0.000e+00, 1.000e+00, 0.000e+00, 0.000e+00,\n",
       "        0.000e+00, 0.000e+00, 0.000e+00, 0.000e+00, 0.000e+00, 1.000e+00,\n",
       "        0.000e+00, 1.000e+00, 1.000e+00, 1.000e+00, 0.000e+00, 0.000e+00,\n",
       "        0.000e+00, 0.000e+00, 1.000e+00, 0.000e+00, 0.000e+00, 2.000e+00,\n",
       "        0.000e+00, 1.000e+00, 0.000e+00, 1.000e+00, 1.000e+00, 1.000e+00,\n",
       "        0.000e+00, 0.000e+00, 0.000e+00, 1.000e+00, 0.000e+00, 0.000e+00,\n",
       "        0.000e+00, 0.000e+00, 0.000e+00, 0.000e+00, 0.000e+00, 0.000e+00,\n",
       "        1.000e+00, 0.000e+00, 0.000e+00, 0.000e+00, 0.000e+00, 0.000e+00,\n",
       "        0.000e+00, 0.000e+00, 0.000e+00, 0.000e+00, 0.000e+00, 0.000e+00,\n",
       "        0.000e+00, 1.000e+00, 0.000e+00, 0.000e+00, 0.000e+00, 0.000e+00,\n",
       "        0.000e+00, 0.000e+00, 0.000e+00, 0.000e+00, 0.000e+00, 0.000e+00,\n",
       "        0.000e+00, 0.000e+00, 0.000e+00, 0.000e+00, 0.000e+00, 0.000e+00,\n",
       "        0.000e+00, 0.000e+00, 0.000e+00, 0.000e+00, 0.000e+00, 0.000e+00,\n",
       "        0.000e+00, 0.000e+00, 0.000e+00, 0.000e+00, 0.000e+00, 0.000e+00,\n",
       "        0.000e+00, 0.000e+00, 0.000e+00, 1.000e+00]),\n",
       " array([-5.11793813, -5.10785866, -5.0977792 , ...,  4.94136854,\n",
       "         4.95144801,  4.96152748]),\n",
       " <BarContainer object of 1000 artists>)"
      ]
     },
     "execution_count": 54,
     "metadata": {},
     "output_type": "execute_result"
    },
    {
     "data": {
      "image/png": "[encoded data removed]",
      "text/plain": [
       "<Figure size 640x480 with 1 Axes>"
      ]
     },
     "metadata": {},
     "output_type": "display_data"
    }
   ],
   "source": [
    "plt.hist(np.random.randn(1000000),bins=1000)"
   ]
  },
  {
   "cell_type": "code",
   "execution_count": 56,
   "id": "14acd265-c3f9-4caf-9f93-7de130bff704",
   "metadata": {},
   "outputs": [
    {
     "name": "stdout",
     "output_type": "stream",
     "text": [
      "[[9 4 9 9 1]\n",
      " [6 4 6 8 7]\n",
      " [1 5 8 9 2]]\n"
     ]
    }
   ],
   "source": [
    "np.random.seed(3)\n",
    "arr=np.random.randint(1,10,(3,5))\n",
    "print(arr)"
   ]
  },
  {
   "cell_type": "code",
   "execution_count": 17,
   "id": "50447f2f-7784-4d66-ae9d-3b0a50f76dec",
   "metadata": {},
   "outputs": [
    {
     "name": "stdout",
     "output_type": "stream",
     "text": [
      "\"FEE HEAD\",\"AMOUNT\",\"DOP\",\"TRANSFER TO\",\"TRF DATE\"\n",
      "\"(26) REGISTRATION\",\"1800.00\",\"17-12-2024\",\"(INS) INSTITUTE\",\"NOT DONE\"\n",
      "\"(29) GYMKHANA\",\"1500.00\",\"17-12-2024\",\"(GYM) GYMKHANA\",\"NOT DONE\"\n",
      "\"(34) ELECTRICITY & WATER CHARGES\",\"2500.00\",\"17-12-2024\",\"(INS) INSTITUTE\",\"NOT DONE\"\n",
      "\"(35) LABORATORY CONTIGENCY\",\"1500.00\",\"17-12-2024\",\"(INS) INSTITUTE\",\"NOT DONE\"Love you kothi/nLove you kothiLove you kothi/nLove you kothi\n",
      "Love you kothi\n",
      "\n",
      "Love you kothi\n"
     ]
    }
   ],
   "source": [
    "fd=open('fees.txt','r')\n",
    "txt=fd.read()\n",
    "fd.close()\n",
    "print(txt)"
   ]
  },
  {
   "cell_type": "code",
   "execution_count": 18,
   "id": "a0e4b368-c1b9-4a2f-a100-53f32f8ed9ba",
   "metadata": {},
   "outputs": [
    {
     "data": {
      "text/plain": [
       "'\"FEE HEAD\",\"AMOUNT\",\"DOP\",\"TRANSFER TO\",\"TRF DATE\"\\n\"(26) REGISTRATION\",\"1800.00\",\"17-12-2024\",\"(INS) INSTITUTE\",\"NOT DONE\"\\n\"(29) GYMKHANA\",\"1500.00\",\"17-12-2024\",\"(GYM) GYMKHANA\",\"NOT DONE\"\\n\"(34) ELECTRICITY & WATER CHARGES\",\"2500.00\",\"17-12-2024\",\"(INS) INSTITUTE\",\"NOT DONE\"\\n\"(35) LABORATORY CONTIGENCY\",\"1500.00\",\"17-12-2024\",\"(INS) INSTITUTE\",\"NOT DONE\"Love you kothi/nLove you kothiLove you kothi/nLove you kothi\\nLove you kothi\\n\\nLove you kothi'"
      ]
     },
     "execution_count": 18,
     "metadata": {},
     "output_type": "execute_result"
    }
   ],
   "source": [
    "for i in range()"
   ]
  },
  {
   "cell_type": "code",
   "execution_count": null,
   "id": "7e8bf7e2-9036-4789-87d9-e2a147ce10a3",
   "metadata": {},
   "outputs": [],
   "source": []
  }
 ],
 "metadata": {
  "kernelspec": {
   "display_name": "Python 3 (ipykernel)",
   "language": "python",
   "name": "python3"
  },
  "language_info": {
   "codemirror_mode": {
    "name": "ipython",
    "version": 3
   },
   "file_extension": ".py",
   "mimetype": "text/x-python",
   "name": "python",
   "nbconvert_exporter": "python",
   "pygments_lexer": "ipython3",
   "version": "3.12.7"
  }
 },
 "nbformat": 4,
 "nbformat_minor": 5
}
